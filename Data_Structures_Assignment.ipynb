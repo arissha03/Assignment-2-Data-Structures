{
  "nbformat": 4,
  "nbformat_minor": 0,
  "metadata": {
    "colab": {
      "provenance": []
    },
    "kernelspec": {
      "name": "python3",
      "display_name": "Python 3"
    },
    "language_info": {
      "name": "python"
    }
  },
  "cells": [
    {
      "cell_type": "markdown",
      "source": [
        "Q1. Discuss string slicing and provide examples.\n",
        "\n",
        "Answer:\n",
        "\n",
        "In Python string slicing is a fundamental operation that allows to extract a portion of a string, creating a new one from the selected part. In essence, it's a way to access specific part of the string or substrings within a larger string. This process is often referred to as “slicing” because you are essentially cutting a piece of the string to work with. Strings are characters in a sequences, and each character has an index associated with it defining its address which start from zero for the first character and increase by 1 for each subsequent character and counts all space signs etc. String slicing is performed by specifying the start and end index within square brackets, separated by a colon, for example- string[start index:end index]. The result is a new string containing characters from the start index up to the character just before the end index. Types of indexing are:\n",
        "\n",
        "Forward slicing The index in this case starts from the begining of the string with zero. Below mentioned is an example:\n",
        "This is sample\n",
        "\n",
        "0123456789......\n",
        "\n",
        "Negative slicing The index in this case starts from the end of the string with -1. Below mentioned is an example:\n",
        "sample\n",
        "\n",
        "-5-4-3-2-1\n",
        "\n",
        "Uses of String Slicing\n",
        "\n",
        "Uses of string slicing are:\n",
        "\n",
        "Extracting the substrings.\n",
        "Reversing the strings.\n",
        "Creating substrings for processing.\n",
        "Data manipulation and cleaning."
      ],
      "metadata": {
        "id": "T4vLRap2mvyb"
      }
    },
    {
      "cell_type": "code",
      "source": [
        "# forward slicing\n",
        "\n",
        "text = 'This is forward slicing'\n",
        "print(text[8:15])\n",
        "\n",
        "\n",
        "# negative slicing\n",
        "\n",
        "text = 'This is negative slicing'\n",
        "print(text[-4:-1])"
      ],
      "metadata": {
        "colab": {
          "base_uri": "https://localhost:8080/"
        },
        "id": "fKx1CdnZnAO4",
        "outputId": "7fda7ed1-2c95-41fc-b3d3-d6663d150f05"
      },
      "execution_count": null,
      "outputs": [
        {
          "output_type": "stream",
          "name": "stdout",
          "text": [
            "forward\n",
            "cin\n"
          ]
        }
      ]
    },
    {
      "cell_type": "markdown",
      "source": [
        "Q2. Explain the key features of lists in Python.\n",
        "\n",
        "Answer Below mentioned are some features of lists in Python:\n",
        "\n",
        "Heterogeneous: Lists in Python can contain different types of items at the same time for example it can contain integers, floating point numbers, strings and boolean values in a single list.\n",
        "Mutable: Lists are mutable and dynamic; list items can be added, removed or changed after the list is defined.\n",
        "Ordered: Lists are ordered, i.e. the items in the list have a specific order that is preserved. Newly added items will be placed at the end of the list.\n",
        "Indexing: It use zero-based indexing, i.e. every list item has an associated index which begins with a zero.\n",
        "Dynamic size: Lists can grow or shrink dynamically as items are added or removed.\n",
        "Sliceable: Lists can be sliced to extract a subset of items.\n",
        "Methods: Lists have various built-in methods, such as append(), extend(), insert(), remove(), pop(), sort(), and reverse().\n",
        "Nested: Lists can be nested within other lists indefinitely i.e.\n",
        "Duplicated list items are valid."
      ],
      "metadata": {
        "id": "5iMku52onQ_A"
      }
    },
    {
      "cell_type": "markdown",
      "source": [
        "Q3. Describe how to access, modify, and delete elements in a list with examples.\n",
        "\n",
        "Answer:\n",
        "\n",
        "Accessing Elements\n",
        "Indexing: Use square brackets [] with the index number to access an element. For example:\n",
        "my_list = [1, 2, 3, 4, 5]\n",
        "\n",
        "print(my_list[0])\n",
        "\n",
        "Output: 1\n",
        "\n",
        "Negative Indexing: Use negative numbers to access elements from the end of the list. For example:\n",
        "my_list = [1, 2, 3, 4, 5]\n",
        "\n",
        "print(my_list[-1])\n",
        "\n",
        "Output: 5\n",
        "\n",
        "Slicing: Use start:stop:step to access a subset of elements. For example:\n",
        "my_list = [1, 2, 3, 4, 5]\n",
        "\n",
        "print(my_list[1:3])\n",
        "\n",
        "Output: [2, 3]\n",
        "\n",
        "Modifying Elements\n",
        "Assign a new value: Use indexing to assign a new value to an element. For example:\n",
        "my_list = [1, 2, 3, 4, 5]\n",
        "\n",
        "my_list[0] = 10\n",
        "\n",
        "print(my_list)\n",
        "\n",
        "Output: [10, 2, 3, 4, 5]\n",
        "\n",
        "Modify a slice: Use slicing to modify multiple elements at once. For example:\n",
        "my_list = [10, 2, 3, 4, 5]\n",
        "\n",
        "my_list[1:3] = [20, 30]\n",
        "\n",
        "print(my_list)\n",
        "\n",
        "Output: [10, 20, 30, 4, 5]\n",
        "\n",
        "Append an element: Use the append() method to add an element to the end of the list. For example:\n",
        "my_list = [10, 20, 30, 4, 5]\n",
        "\n",
        "my_list.append(6)\n",
        "\n",
        "print(my_list)\n",
        "\n",
        "Output: [10, 20, 30, 4, 5, 6]\n",
        "\n",
        "Insert an element: Use the insert() method to add an element at a specific index. For example:\n",
        "my_list = [10, 20, 30, 4, 5, 6]\n",
        "\n",
        "my_list.insert(2, 25)\n",
        "\n",
        "print(my_list)\n",
        "\n",
        "Output: [10, 20, 25, 30, 4, 5, 6]\n",
        "\n",
        "Deleting Elements\n",
        "Remove by index: Use the del statement to remove an element by index. For example:\n",
        "my_list = [10, 20, 25, 30, 4, 5, 6]\n",
        "\n",
        "del my_list[0]\n",
        "\n",
        "print(my_list)\n",
        "\n",
        "Output: [20, 25, 30, 4, 5, 6]\n",
        "\n",
        "Remove by value: Use the remove() method to remove the first occurrence of a value. For example:\n",
        "my_list = [20, 25, 30, 4, 5, 6]\n",
        "\n",
        "my_list.remove(25)\n",
        "\n",
        "print(my_list)\n",
        "\n",
        "Output: [20, 30, 4, 5, 6]\n",
        "\n",
        "Pop an element: Use the pop() method to remove and return an element at a specific index. For example:\n",
        "my_list = [20, 30, 4, 5, 6]\n",
        "\n",
        "popped_element = my_list.pop(1)\n",
        "\n",
        "print(my_list)\n",
        "\n",
        "Output: [20, 4, 5, 6]\n",
        "\n",
        "print(popped_element)\n",
        "\n",
        "Output: 30\n",
        "\n",
        "Clear the list: Use the clear() method to remove all elements from the list. For example:\n",
        "my_list = [20, 4, 5, 6]\n",
        "\n",
        "my_list.clear()\n",
        "\n",
        "print(my_list)\n",
        "\n",
        "Output: [ ]"
      ],
      "metadata": {
        "id": "BVfIslJInixs"
      }
    },
    {
      "cell_type": "code",
      "source": [],
      "metadata": {
        "id": "xxprkdo1n4fe"
      },
      "execution_count": null,
      "outputs": []
    },
    {
      "cell_type": "code",
      "source": [
        "# Accessing elements\n",
        "\n",
        "my_list = [1, 2, 3, 4, 5]\n",
        "print(my_list[0])\n",
        "\n",
        "my_list = [1, 2, 3, 4, 5]\n",
        "print(my_list[-1])\n",
        "\n",
        "my_list = [1, 2, 3, 4, 5]\n",
        "print(my_list[1:3])\n",
        "\n",
        "\n",
        "# Modifying elements\n",
        "\n",
        "my_list = [1, 2, 3, 4, 5]\n",
        "my_list[0] = 10\n",
        "print(my_list)\n",
        "\n",
        "my_list = [10, 2, 3, 4, 5]\n",
        "my_list[1:3] = [20, 30]\n",
        "print(my_list)\n",
        "\n",
        "my_list = [10, 20, 30, 4, 5]\n",
        "my_list.append(6)\n",
        "print(my_list)\n",
        "\n",
        "my_list = [10, 20, 30, 4, 5, 6]\n",
        "my_list.insert(2, 25)\n",
        "print(my_list)\n",
        "\n",
        "\n",
        "# Deleteing element\n",
        "\n",
        "my_list = [10, 20, 25, 30, 4, 5, 6]\n",
        "del my_list[0]\n",
        "print(my_list)\n",
        "\n",
        "my_list = [20, 25, 30, 4, 5, 6]\n",
        "my_list.remove(25)\n",
        "print(my_list)\n",
        "\n",
        "my_list = [20, 30, 4, 5, 6]\n",
        "popped_element = my_list.pop(1)\n",
        "print(my_list)\n",
        "print(popped_element)\n",
        "\n",
        "my_list = [20, 4, 5, 6]\n",
        "my_list.clear()\n",
        "print(my_list)"
      ],
      "metadata": {
        "colab": {
          "base_uri": "https://localhost:8080/"
        },
        "id": "IyUlMDE3o32_",
        "outputId": "0f5a9e47-ef31-46b9-c825-fa5870344490"
      },
      "execution_count": null,
      "outputs": [
        {
          "output_type": "stream",
          "name": "stdout",
          "text": [
            "1\n",
            "5\n",
            "[2, 3]\n",
            "[10, 2, 3, 4, 5]\n",
            "[10, 20, 30, 4, 5]\n",
            "[10, 20, 30, 4, 5, 6]\n",
            "[10, 20, 25, 30, 4, 5, 6]\n",
            "[20, 25, 30, 4, 5, 6]\n",
            "[20, 30, 4, 5, 6]\n",
            "[20, 4, 5, 6]\n",
            "30\n",
            "[]\n"
          ]
        }
      ]
    },
    {
      "cell_type": "markdown",
      "source": [],
      "metadata": {
        "id": "XMx9xVEBoD_2"
      }
    },
    {
      "cell_type": "markdown",
      "source": [
        "**Q4.  Compare and contrast tuples and lists with examples.**\n",
        "\n",
        "**Answer:**\n",
        "\n",
        "##**Difference Between Tuples and Lists**\n",
        "1. Tuples are immutable objects so Python allocates only the minimum memory block required for the data. **Where as,** lists are mutable objects so Python needs to allocate an extra memory block in case there is a need to extend the size of the list object after we create it.\n",
        "\n",
        "2. Once defined, tuples have a fixed length **Where as,** lists have a dynamic length.\n",
        "\n",
        "3. Tuples use less memory and are faster to access as compared to lists.\n",
        "\n",
        "4. Tuple syntax uses parenthesis **Where as,** list syntax uses square brackets.\n",
        "\n",
        "##**Similarities Between Python Tuples and Lists**\n",
        "\n",
        "1. Both of then are used to store collections of data.\n",
        "2. Both are heterogeneous data types, i.i we can store any kind of data type.\n",
        "3. Both are ordered, i.e. the order that we put the items in are kept in the same order througout.\n",
        "4. Both of them are sequential data types so we can go through the items contained again.\n",
        "\n",
        "5. Items of both can be accessed by an integer index operator, provided in square brackets."
      ],
      "metadata": {
        "id": "LadD-4NBxmaI"
      }
    },
    {
      "cell_type": "code",
      "source": [
        "# Tuple\n",
        "no = (10,20,30,40,50,60)\n",
        "print(no[2])   # accessing elements\n",
        "print(no[-1])  # accessing elements\n",
        "print(no[1:3]) # slicing\n",
        "print(no.count(20))\n",
        "print(no.index(30))\n",
        "\n",
        "no[0]=6       # showing error since we can't modify tuple"
      ],
      "metadata": {
        "colab": {
          "base_uri": "https://localhost:8080/",
          "height": 263
        },
        "id": "MphwjyIfn57v",
        "outputId": "3d396b14-fc39-46a5-bc21-713121502c8c"
      },
      "execution_count": null,
      "outputs": [
        {
          "output_type": "stream",
          "name": "stdout",
          "text": [
            "30\n",
            "60\n",
            "(20, 30)\n",
            "1\n",
            "2\n"
          ]
        },
        {
          "output_type": "error",
          "ename": "TypeError",
          "evalue": "'tuple' object does not support item assignment",
          "traceback": [
            "\u001b[0;31m---------------------------------------------------------------------------\u001b[0m",
            "\u001b[0;31mTypeError\u001b[0m                                 Traceback (most recent call last)",
            "\u001b[0;32m<ipython-input-3-0e750b02e2bf>\u001b[0m in \u001b[0;36m<cell line: 9>\u001b[0;34m()\u001b[0m\n\u001b[1;32m      7\u001b[0m \u001b[0mprint\u001b[0m\u001b[0;34m(\u001b[0m\u001b[0mno\u001b[0m\u001b[0;34m.\u001b[0m\u001b[0mindex\u001b[0m\u001b[0;34m(\u001b[0m\u001b[0;36m30\u001b[0m\u001b[0;34m)\u001b[0m\u001b[0;34m)\u001b[0m\u001b[0;34m\u001b[0m\u001b[0;34m\u001b[0m\u001b[0m\n\u001b[1;32m      8\u001b[0m \u001b[0;34m\u001b[0m\u001b[0m\n\u001b[0;32m----> 9\u001b[0;31m \u001b[0mno\u001b[0m\u001b[0;34m[\u001b[0m\u001b[0;36m0\u001b[0m\u001b[0;34m]\u001b[0m\u001b[0;34m=\u001b[0m\u001b[0;36m6\u001b[0m       \u001b[0;31m# showing error since we can't modify tuple\u001b[0m\u001b[0;34m\u001b[0m\u001b[0;34m\u001b[0m\u001b[0m\n\u001b[0m",
            "\u001b[0;31mTypeError\u001b[0m: 'tuple' object does not support item assignment"
          ]
        }
      ]
    },
    {
      "cell_type": "code",
      "source": [
        "# Lists\n",
        "no=[10,20,30]\n",
        "print(no[0])    # output 10\n",
        "no[1]=30\n",
        "print(no)       # changes reflect and we get output without error\n",
        "no.append(40)   # append the list\n",
        "print(no)\n",
        "no.insert(2,50) # insert the list\n",
        "print(no)\n",
        "print(no.pop(2))# pop the list\n",
        "print(no)\n",
        "no.remove(30)   # remove the list\n",
        "print(no)"
      ],
      "metadata": {
        "colab": {
          "base_uri": "https://localhost:8080/"
        },
        "id": "BWOQP3bSoMCN",
        "outputId": "74c59099-2993-4375-f12a-90f01d5f0226"
      },
      "execution_count": null,
      "outputs": [
        {
          "output_type": "stream",
          "name": "stdout",
          "text": [
            "10\n",
            "[10, 30, 30]\n",
            "[10, 30, 30, 40]\n",
            "[10, 30, 50, 30, 40]\n",
            "50\n",
            "[10, 30, 30, 40]\n",
            "[10, 30, 40]\n"
          ]
        }
      ]
    },
    {
      "cell_type": "markdown",
      "source": [
        "**Q5 Describe the key features of sets and provide examples of their use.**\n",
        "\n",
        "**Answer:**\n",
        "\n",
        "Set is one of 4 built-in data types in Python used to store collections of data which is unordered, unindexed, and unchangeable but we can remove items and add new items. They are used to store multiple items in a single variable. They  are written with curly brackets.\n",
        "\n",
        "**Key features of Sets are:**\n",
        "\n",
        "1. **Set Items:** They are unordered, unchangeable, and do not allow duplicate values.\n",
        "2. **Unordered:** The items in a set do not have a defined order. Set items can appear in a different order every time you use them, and cannot be referred to by index or key.\n",
        "3. ** Unchangeable:** we cannot change the items after the set has been created. Once a set is created, you cannot change its items, but can remove items and add new items.\n",
        "4. **Can't have Duplicates:** Sets cannot have two items with the same value. Duplicate values will be ignored if any mentioned.\n",
        "5. ** Length of a Set:** To find out how many items a set has, there is a specific function the len() function.\n",
        "6. **Different Data Types:** A set can contain different data types.\n",
        "7. The values True and 1 are considered the same value in sets, and are treated as duplicates.\n",
        "8. The values False and 0 are considered the same value in sets, and are treated as duplicates.\n"
      ],
      "metadata": {
        "id": "U1WzrtnWE2JN"
      }
    },
    {
      "cell_type": "code",
      "source": [
        "fruit = {\"apple\", \"mango\", \"litchi\"}\n",
        "print(fruit)\n",
        "\n",
        "sets = {\"books\" , \"notebooks\" , \"pens\" , \"notebooks\"}  # repeated value ignored\n",
        "print(sets)\n",
        "\n",
        "fruits = {\"apple\", \"banana\", \"cherry\", True, 1, 2} # True and 1 is considered the same value so 1 isn't printed\n",
        "print(fruits)\n",
        "\n",
        "food = {\"apple\", \"banana\", \"cherry\", False, True, 0} # False and 0 is considered the same value so 0 isn't printed\n",
        "print(food)\n",
        "\n",
        "theset = {\"apple\", \"banana\", \"cherry\" , \"mango\" , \"strawberry\"}\n",
        "print(len(theset))           # to count number of items in a set\n",
        "\n",
        "thisset = {\"apple\", \"cherry\", \"banana\", \"litchi\" , \"apple\" }  # duplicate item not counted\n",
        "print(len(thisset))\n",
        "\n",
        "thisset = set((\"apple\", \"banana\", \"cherry\"))  # note the double round-brackets\n",
        "print(thisset)"
      ],
      "metadata": {
        "colab": {
          "base_uri": "https://localhost:8080/"
        },
        "id": "lr1h6MT8oeyP",
        "outputId": "f4da9c67-b34e-4f33-d965-063f04ba5e16"
      },
      "execution_count": null,
      "outputs": [
        {
          "output_type": "stream",
          "name": "stdout",
          "text": [
            "{'mango', 'apple', 'litchi'}\n",
            "{'pens', 'notebooks', 'books'}\n",
            "{True, 2, 'apple', 'banana', 'cherry'}\n",
            "{False, True, 'banana', 'apple', 'cherry'}\n",
            "5\n",
            "4\n",
            "{'banana', 'apple', 'cherry'}\n"
          ]
        }
      ]
    },
    {
      "cell_type": "markdown",
      "source": [
        "**Q6. Discuss the use cases of tuples and sets in Python programming.**\n",
        "\n",
        "**Answer:**\n",
        "##**Use Cases of Tuples are:**\n",
        "1. **Data storage:** It can be used to Store multiple values in a single variable.For example:\n",
        "\n",
        "person = (\"John\", 30, \"Engineer\")\n",
        "2. **Immutable data:** It is used to store data that shouldn't be changed. For example:\n",
        "\n",
        "coordinates = (10, 20)\n",
        "3. **Function arguments:** Tuples are used to to pass multiple arguments to a function. For example:\n",
        "\n",
        "def greet(name, age): print(f\"Hello, {name}! You are {age} years old.\") greet((\"John\", 30))\n",
        "4. **Return multiple values:** It can be used to return multiple values from a function. For example:\n",
        "\n",
        "def calculate(a, b): return (a + b, a * b) result = calculate(3, 4) print(result) # Output: (7, 12)\n",
        "5. **Dictionary keys:** It is used as keys in dictionaries.\n",
        "\n",
        "data = {(\"John\", \"Engineer\"): 30, (\"Jane\", \"Doctor\"): 25}\n",
        "6. **Data integrity:** It ensure data integrity by preventing modification.\n",
        "7. **Fast access:** It is prefered as it access elements faster than lists.\n",
        "8. **Memory efficiency:** It uses less memory than lists.\n",
        "9. **CSV data:** CSV data is  stored in tuples.\n",
        "10. **Database records:** Database records are stored in tuples.\n",
        "\n",
        "##**Use Cases of Sets are:**\n",
        "1. ***Unique data storage:** It stores unique elements.  For example:\n",
        "\n",
        "unique_numbers = {1, 2, 3, 3, 4} print(unique_numbers) # Output: {1, 2, 3, 4}\n",
        "2. **Fast membership testing**: it checks if an element exists.  For example:\n",
        "\n",
        "numbers = {1, 2, 3, 4} print(2 in numbers) # Output: True\n",
        "3. **Set operations:** It is used to perform union, intersection, difference, and symmetric difference operations.  For example:\n",
        "\n",
        "set1 = {1, 2, 3} set2 = {3, 4, 5} print(set1.union(set2)) # Output: {1, 2, 3, 4, 5}\n",
        "4. **Data deduplication:** It is used to automatically remove duplicates.  For example:\n",
        "\n",
        "names = [\"John\", \"Jane\", \"John\", \"Jim\"] unique_names = set(names) print(unique_names) # Output: {\"John\", \"Jane\", \"Jim\"}\n",
        "5. **Fast data insertion and removal:** It inserts and removes elements efficiently.  For example:\n",
        "\n",
        "numbers = {1, 2, 3} numbers.add(4) print(numbers) # Output: {1, 2, 3, 4} numbers.remove(2) print(numbers) # Output: {1, 3, 4}\n",
        "6. **Mathematical operations:** It is used to perform mathematical operations like union and intersection.  For example:\n",
        "\n",
        "a = 6\n",
        "b= 7\n",
        "print(a+b)\n",
        "print(b-a)\n",
        "print(b%a)\n",
        "print(b/a)\n",
        "print(b//a)\n",
        "print(a*b)\n",
        "print(a**b)\n",
        "7. **Data filtering:** It is  used to filter data.  For example:\n",
        "\n",
        "numbers = [1, 2, 3, 4, 5, 6]\n",
        "even_numbers = [num for num in numbers if num % 2 == 0]\n",
        "print(even_numbers)  # Output: [2, 4, 6]\n",
        "8. **Data validation:** It is used to validate data.\n",
        "9. **Data analysis:** We can Analyze data using sets.\n",
        "10. **Machine learning:** It is used in machine learning algorithms."
      ],
      "metadata": {
        "id": "5JTPp3Q-omGi"
      }
    },
    {
      "cell_type": "code",
      "source": [
        "# Uses of Tuples\n",
        "person = (\"John\", 30, \"Engineer\")\n",
        "print(person)\n",
        "\n",
        "def greet(name, age):\n",
        "    print(f\"Hello, {name}! You are {age} years old.\")\n",
        "greet(\"John\", 30)\n",
        "\n",
        "def calculate(a, b):\n",
        "    return (a + b, a * b)\n",
        "result = calculate(3, 4)\n",
        "print(result)\n",
        "\n",
        "\n",
        "# Uses of Stets\n",
        "unique_numbers = {1, 2, 3, 3, 4}\n",
        "print(unique_numbers)\n",
        "\n",
        "set1 = {1, 2, 3}\n",
        "set2 = {3, 4, 5}\n",
        "print(set1.union(set2))\n",
        "\n",
        "numbers = {1, 2, 3, 4}\n",
        "print(2 in numbers)\n",
        "\n",
        "names = [\"John\", \"Jane\", \"John\", \"Jim\"]\n",
        "unique_names = set(names)\n",
        "print(unique_names)\n",
        "\n",
        "numbers = {1, 2, 3}\n",
        "numbers.add(4)\n",
        "print(numbers)\n",
        "\n",
        "a = 6\n",
        "b= 7\n",
        "print(a+b)\n",
        "print(a-b)\n",
        "print(b-a)\n",
        "print(a%b)\n",
        "print(b%a)   # modular operator gives the remainder\n",
        "print(a/b)\n",
        "print(b/a)   # division with precision (decimal digits)\n",
        "print(a//b)\n",
        "print(b//a)  # floor division i.e. without division\n",
        "print(a*b)\n",
        "print(a**b)  # double* means a to the power b i.e. 6*6*6*6*6*6*6(exponentiation operator)\n",
        "a=(1+2)*3/4\n",
        "print(a)\n",
        "\n",
        "b=1**2+3**4+2\n",
        "print(b)"
      ],
      "metadata": {
        "colab": {
          "base_uri": "https://localhost:8080/"
        },
        "id": "G21au63JofZD",
        "outputId": "8e8d2bfe-c98b-4547-8233-7ddd8244de3d"
      },
      "execution_count": null,
      "outputs": [
        {
          "output_type": "stream",
          "name": "stdout",
          "text": [
            "('John', 30, 'Engineer')\n",
            "Hello, John! You are 30 years old.\n",
            "(7, 12)\n",
            "{1, 2, 3, 4}\n",
            "{1, 2, 3, 4, 5}\n",
            "True\n",
            "{'Jim', 'Jane', 'John'}\n",
            "{1, 2, 3, 4}\n",
            "13\n",
            "-1\n",
            "1\n",
            "6\n",
            "1\n",
            "0.8571428571428571\n",
            "1.1666666666666667\n",
            "0\n",
            "1\n",
            "42\n",
            "279936\n",
            "2.25\n",
            "84\n"
          ]
        }
      ]
    },
    {
      "cell_type": "markdown",
      "source": [],
      "metadata": {
        "id": "5NBbOLapo0H0"
      }
    },
    {
      "cell_type": "markdown",
      "source": [
        "**Q7. Describe how to add, modify, and delete items in a dictionary with examples.**\n",
        "\n",
        "**Answer:**\n",
        "\n",
        "Dictionary is a data structure in Python that stores a collection of key-value pairs, where each key is unique and maps to a specific value.\n",
        "\n",
        "1. Key: It is a unique identifier or string that maps to a specific value in a dictionary.\n",
        "\n",
        "my_dict = {}  # Empty dictionary\n",
        "my_dict = {'key1': 'value1', 'key2': 'value2'}  # Dictionary with initial values\n",
        "2. Value: The data or information associated with a key in a dictionary.\n",
        "\n",
        "value = my_dict['key1']  # Get the value for 'key1'\n",
        "3. Add: To insert a new key-value pair into a dictionary.\n",
        "\n",
        "4. Modify: To change the value associated with an existing key in a dictionary.\n",
        "\n",
        "5. Delete: To remove a key-value pair from a dictionary.\n",
        "\n",
        "6. Update(): A method that adds or modifies multiple key-value pairs in a dictionary.\n",
        "\n",
        "7. Del: A statement that removes a key-value pair from a dictionary.\n",
        "\n",
        "del my_dict['key2']  # Remove the key-value pair for 'key2'\n",
        "\n",
        "8. Pop(): A method that removes a key-value pair from a dictionary and returns the value.\n",
        "\n",
        "9. Clear(): A method that removes all key-value pairs from a dictionary.\n",
        "\n",
        "10. In: An operator that checks if a key exists in a dictionary.\n",
        "\n",
        "11. KeyError: An exception raised when trying to access or modify a key that does not exist in a dictionary."
      ],
      "metadata": {
        "id": "Nafo1gE4zQ8G"
      }
    },
    {
      "cell_type": "code",
      "source": [
        "#Creating a Dictionary\n",
        "\n",
        "my_dict = {}  # Empty dictionary\n",
        "my_dict = {'key1': 'value1', 'key2': 'value2'}\n",
        "\n",
        "#Accessing Elements\n",
        "\n",
        "value = my_dict['key1']\n",
        "\n",
        "#Adding/Updating Elements\n",
        "\n",
        "my_dict['key3'] = 'value3'  # Add a new key-value pair\n",
        "my_dict['key1'] = 'new_value1'  # Update the value for 'key1'\n",
        "\n",
        "#Removing Elements\n",
        "\n",
        "del my_dict['key2']\n",
        "\n",
        "#Checking if a Key Exists\n",
        "\n",
        "if 'key1' in my_dict:\n",
        "    print(\"Key exists\")\n",
        "\n",
        "#Iterating Over a Dictionary\n",
        "\n",
        "for key, value in my_dict.items():\n",
        "    print(f\"{key}: {value}\")\n",
        "\n",
        "#Dictionary Methods\n",
        "\n",
        "my_dict.keys()  # Get a list of keys\n",
        "my_dict.values()  # Get a list of values\n",
        "my_dict.items()  # Get a list of key-value pairs\n",
        "my_dict.update({'key4': 'value4'})  # Update the dictionary with new key-value pairs\n",
        "\n",
        "#Dictionary Comprehension\n",
        "\n",
        "my_list = [('key1', 'value1'), ('key2', 'value2'), ('key3', 'value3')]\n",
        "my_dict = {key: value for key, value in my_list}\n",
        "print(my_dict)"
      ],
      "metadata": {
        "colab": {
          "base_uri": "https://localhost:8080/"
        },
        "id": "S3g4K3foovv2",
        "outputId": "1343ec32-5134-476c-babe-c442b9890f99"
      },
      "execution_count": null,
      "outputs": [
        {
          "output_type": "stream",
          "name": "stdout",
          "text": [
            "Key exists\n",
            "key1: new_value1\n",
            "key3: value3\n",
            "{'key1': 'value1', 'key2': 'value2', 'key3': 'value3'}\n"
          ]
        }
      ]
    },
    {
      "cell_type": "markdown",
      "source": [
        "**Q8. Discuss the importance of dictionary keys being immutable and provide examples.**\n",
        "\n",
        "**Answer:**\n",
        "\n",
        "Dictionary keys must be immutable, meaning they cannot be changed after creation. This is crucial for maintaining the integrity and efficiency of dictionaries. Here's why:\n",
        "\n",
        "**Importance of Immutability in dictionaries:**\n",
        "\n",
        "1. **Hashing:** Dictionaries use hashing to store and retrieve key-value pairs efficiently. Immutable keys ensure that the hash value remains constant, allowing for fast lookups.\n",
        "2. **Uniqueness:** Immutable keys guarantee uniqueness, preventing accidental overwrites or duplicates.\n",
        "3. **Cache efficiency:** Immutable keys enable dictionaries to cache hash values, reducing the overhead of repeated hash calculations.\n",
        "4. **Thread safety:** Immutable keys ensure that dictionaries are thread-safe, as multiple threads can access the dictionary without fear of modifying keys.\n",
        "\n",
        "The immutability of dictionary keys is essential for maintaining the integrity, efficiency, and thread safety of dictionaries in Python. Always use immutable data types as keys to ensure proper dictionary behavior.\n",
        "Examples of immutable keys:\n",
        "\n",
        "1.  Strings: 'hello', \"hello\", 'hello world'\n",
        "\n",
        "2.  Integers: 1, 2, 3, 42\n",
        "\n",
        "3.  Tuples: (1, 2), ('a', 'b'), (1, 'a')\n",
        "\n",
        "4.  Frozensets: frozenset([1, 2]), frozenset({'a', 'b'})\n",
        "\n",
        "Examples of mutable keys (not allowed):\n",
        "\n",
        "1. Lists: [1, 2], ['a', 'b'] (will raise a TypeError)\n",
        "2. Dictionaries: {'a': 1}, {'b': 2} (will raise a TypeError)\n",
        "3. Sets: {1, 2}, {'a', 'b'} (will raise a TypeError)\n",
        "\n",
        "Consequences of using mutable keys:\n",
        "\n",
        "1. **TypeError:** Attempting to use a mutable key will raise a TypeError.\n",
        "2. **Unpredictable behavior:** If a mutable key is used, the dictionary's behavior becomes unpredictable, leading to potential bugs and errors.\n",
        "3. **Performance issues:** Using mutable keys can lead to performance degradation due to repeated hash calculations and cache misses.\n"
      ],
      "metadata": {
        "id": "sf61P3g77GS7"
      }
    },
    {
      "cell_type": "code",
      "source": [
        "# Mutable dictionary\n",
        "mutable_dict = {'a': 1, 'b': 2}\n",
        "print(\"Original mutable dictionary:\", mutable_dict)\n",
        "\n",
        "# Modifying the mutable dictionary\n",
        "def modify_mutable_dict(mutable_dict):\n",
        "    mutable_dict['c'] = 3\n",
        "\n",
        "modify_mutable_dict(mutable_dict)\n",
        "print(\"Modified mutable dictionary:\", mutable_dict)\n",
        "\n",
        "# Immutable dictionary (using frozenset)\n",
        "immutable_dict = frozenset({'a': 1, 'b': 2}.items())\n",
        "print(\"Original immutable dictionary:\", dict(immutable_dict))\n",
        "\n",
        "# Attempting to modify the immutable dictionary\n",
        "def modify_immutable_dict(immutable_dict):\n",
        "    try:\n",
        "        immutable_dict.add(('c', 3))\n",
        "    except AttributeError:\n",
        "        print(\"Cannot modify an immutable dictionary!\")\n",
        "\n",
        "modify_immutable_dict(immutable_dict)\n",
        "print(\"Immutable dictionary remains unchanged:\", dict(immutable_dict))"
      ],
      "metadata": {
        "colab": {
          "base_uri": "https://localhost:8080/"
        },
        "id": "nY6hEH56pFmE",
        "outputId": "85d809e7-70a0-4092-ebf6-7d696c98796f"
      },
      "execution_count": null,
      "outputs": [
        {
          "output_type": "stream",
          "name": "stdout",
          "text": [
            "Original mutable dictionary: {'a': 1, 'b': 2}\n",
            "Modified mutable dictionary: {'a': 1, 'b': 2, 'c': 3}\n",
            "Original immutable dictionary: {'a': 1, 'b': 2}\n",
            "Cannot modify an immutable dictionary!\n",
            "Immutable dictionary remains unchanged: {'a': 1, 'b': 2}\n"
          ]
        }
      ]
    }
  ]
}